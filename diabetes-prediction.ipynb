{
 "cells": [
  {
   "cell_type": "code",
   "execution_count": 126,
   "id": "67774c3f",
   "metadata": {},
   "outputs": [
    {
     "data": {
      "text/html": [
       "<div>\n",
       "<style scoped>\n",
       "    .dataframe tbody tr th:only-of-type {\n",
       "        vertical-align: middle;\n",
       "    }\n",
       "\n",
       "    .dataframe tbody tr th {\n",
       "        vertical-align: top;\n",
       "    }\n",
       "\n",
       "    .dataframe thead th {\n",
       "        text-align: right;\n",
       "    }\n",
       "</style>\n",
       "<table border=\"1\" class=\"dataframe\">\n",
       "  <thead>\n",
       "    <tr style=\"text-align: right;\">\n",
       "      <th></th>\n",
       "      <th>NGravidez</th>\n",
       "      <th>Glicose</th>\n",
       "      <th>PSanguinea</th>\n",
       "      <th>DobrasPele</th>\n",
       "      <th>Insulina</th>\n",
       "      <th>IMC</th>\n",
       "      <th>GenealogiaDiabetica</th>\n",
       "      <th>Idade</th>\n",
       "      <th>Resultado</th>\n",
       "    </tr>\n",
       "  </thead>\n",
       "  <tbody>\n",
       "    <tr>\n",
       "      <th>0</th>\n",
       "      <td>6.0</td>\n",
       "      <td>148.0</td>\n",
       "      <td>72.0</td>\n",
       "      <td>35.0</td>\n",
       "      <td>0.0</td>\n",
       "      <td>33.6</td>\n",
       "      <td>0.6</td>\n",
       "      <td>50.0</td>\n",
       "      <td>1</td>\n",
       "    </tr>\n",
       "    <tr>\n",
       "      <th>1</th>\n",
       "      <td>1.0</td>\n",
       "      <td>85.0</td>\n",
       "      <td>66.0</td>\n",
       "      <td>29.0</td>\n",
       "      <td>0.0</td>\n",
       "      <td>26.6</td>\n",
       "      <td>0.4</td>\n",
       "      <td>31.0</td>\n",
       "      <td>0</td>\n",
       "    </tr>\n",
       "    <tr>\n",
       "      <th>2</th>\n",
       "      <td>8.0</td>\n",
       "      <td>183.0</td>\n",
       "      <td>64.0</td>\n",
       "      <td>0.0</td>\n",
       "      <td>0.0</td>\n",
       "      <td>23.3</td>\n",
       "      <td>0.7</td>\n",
       "      <td>32.0</td>\n",
       "      <td>1</td>\n",
       "    </tr>\n",
       "    <tr>\n",
       "      <th>3</th>\n",
       "      <td>1.0</td>\n",
       "      <td>89.0</td>\n",
       "      <td>66.0</td>\n",
       "      <td>23.0</td>\n",
       "      <td>94.0</td>\n",
       "      <td>28.1</td>\n",
       "      <td>0.2</td>\n",
       "      <td>21.0</td>\n",
       "      <td>0</td>\n",
       "    </tr>\n",
       "    <tr>\n",
       "      <th>4</th>\n",
       "      <td>0.0</td>\n",
       "      <td>137.0</td>\n",
       "      <td>40.0</td>\n",
       "      <td>35.0</td>\n",
       "      <td>168.0</td>\n",
       "      <td>43.1</td>\n",
       "      <td>2.3</td>\n",
       "      <td>33.0</td>\n",
       "      <td>1</td>\n",
       "    </tr>\n",
       "  </tbody>\n",
       "</table>\n",
       "</div>"
      ],
      "text/plain": [
       "   NGravidez  Glicose  PSanguinea  DobrasPele  Insulina   IMC  \\\n",
       "0        6.0    148.0        72.0        35.0       0.0  33.6   \n",
       "1        1.0     85.0        66.0        29.0       0.0  26.6   \n",
       "2        8.0    183.0        64.0         0.0       0.0  23.3   \n",
       "3        1.0     89.0        66.0        23.0      94.0  28.1   \n",
       "4        0.0    137.0        40.0        35.0     168.0  43.1   \n",
       "\n",
       "   GenealogiaDiabetica  Idade  Resultado  \n",
       "0                  0.6   50.0          1  \n",
       "1                  0.4   31.0          0  \n",
       "2                  0.7   32.0          1  \n",
       "3                  0.2   21.0          0  \n",
       "4                  2.3   33.0          1  "
      ]
     },
     "execution_count": 126,
     "metadata": {},
     "output_type": "execute_result"
    }
   ],
   "source": [
    "#Importando o dataset \n",
    "import pandas as pd\n",
    "\n",
    "data = pd.read_csv('diabetes_test.csv')\n",
    "\n",
    "data.columns\n",
    "data.head()"
   ]
  },
  {
   "cell_type": "code",
   "execution_count": 127,
   "id": "e4ba24bb",
   "metadata": {},
   "outputs": [],
   "source": [
    "# Dividir o dataset entre x e y\n",
    "x = data[[\"NGravidez\", \"Glicose\", \"PSanguinea\", \"DobrasPele\",\"Insulina\", \"IMC\", \"GenealogiaDiabetica\", \"Idade\"]]\n",
    "y = data[\"Resultado\"]"
   ]
  },
  {
   "cell_type": "code",
   "execution_count": 128,
   "id": "723534bc",
   "metadata": {},
   "outputs": [],
   "source": [
    "# Dividir entre treino e teste\n",
    "from sklearn.model_selection import train_test_split\n",
    "xtreino, xteste, ytreino, yteste = train_test_split(x,y,random_state=1)"
   ]
  },
  {
   "cell_type": "code",
   "execution_count": 129,
   "id": "0a297bb6",
   "metadata": {},
   "outputs": [],
   "source": [
    "# Criando o modelo SVM\n",
    "from sklearn.svm import SVC\n",
    "svm = SVC()\n",
    "svm = svm.fit(xtreino,ytreino)\n",
    "yprevisao = svm.predict(xteste)"
   ]
  },
  {
   "cell_type": "code",
   "execution_count": 132,
   "id": "49077dd1",
   "metadata": {},
   "outputs": [
    {
     "data": {
      "text/plain": [
       "array([177, 175])"
      ]
     },
     "execution_count": 132,
     "metadata": {},
     "output_type": "execute_result"
    }
   ],
   "source": [
    "# Mostra os Support Vectors usados\n",
    "svm.support_vectors_\n",
    "\n",
    "# Mostra a quantidade de support vectors de cada classe\n",
    "svm.n_support_"
   ]
  },
  {
   "cell_type": "code",
   "execution_count": 134,
   "id": "5952b3b1",
   "metadata": {},
   "outputs": [
    {
     "data": {
      "image/png": "[encoded data removed]",
      "text/plain": [
       "<Figure size 432x288 with 1 Axes>"
      ]
     },
     "metadata": {
      "needs_background": "light"
     },
     "output_type": "display_data"
    }
   ],
   "source": [
    "# Gráfico do SVM\n",
    "from mlxtend.plotting import plot_decision_regions\n",
    "import matplotlib.pyplot as plt\n",
    "import numpy as np\n",
    "\n",
    "X = data.values[:100, 1:3]\n",
    "y = data.values[:100, 8].astype(np.int64)\n",
    "\n",
    "# Treino do Modelo SVM\n",
    "from sklearn.svm import SVC\n",
    "svm = SVC(kernel='linear')\n",
    "svm.fit(X, y)\n",
    "\n",
    "# Mostra o Gráfico\n",
    "plot_decision_regions(X, y, clf=svm)\n",
    "plt.show()"
   ]
  },
  {
   "cell_type": "code",
   "execution_count": 135,
   "id": "4ed35f1a",
   "metadata": {},
   "outputs": [
    {
     "data": {
      "text/html": [
       "<div>\n",
       "<style scoped>\n",
       "    .dataframe tbody tr th:only-of-type {\n",
       "        vertical-align: middle;\n",
       "    }\n",
       "\n",
       "    .dataframe tbody tr th {\n",
       "        vertical-align: top;\n",
       "    }\n",
       "\n",
       "    .dataframe thead th {\n",
       "        text-align: right;\n",
       "    }\n",
       "</style>\n",
       "<table border=\"1\" class=\"dataframe\">\n",
       "  <thead>\n",
       "    <tr style=\"text-align: right;\">\n",
       "      <th></th>\n",
       "      <th>previsto sem diabetes</th>\n",
       "      <th>previsto com diabetes</th>\n",
       "    </tr>\n",
       "  </thead>\n",
       "  <tbody>\n",
       "    <tr>\n",
       "      <th>nao tem diabetes</th>\n",
       "      <td>113</td>\n",
       "      <td>10</td>\n",
       "    </tr>\n",
       "    <tr>\n",
       "      <th>tem diabetes</th>\n",
       "      <td>34</td>\n",
       "      <td>35</td>\n",
       "    </tr>\n",
       "  </tbody>\n",
       "</table>\n",
       "</div>"
      ],
      "text/plain": [
       "                  previsto sem diabetes  previsto com diabetes\n",
       "nao tem diabetes                    113                     10\n",
       "tem diabetes                         34                     35"
      ]
     },
     "execution_count": 135,
     "metadata": {},
     "output_type": "execute_result"
    }
   ],
   "source": [
    "# Avalia o modelo\n",
    "from sklearn.metrics import classification_report, confusion_matrix\n",
    "cm = np.array(confusion_matrix(yteste,yprevisao, labels=[0,1]))\n",
    "avaliacao = pd.DataFrame(cm,index=['nao tem diabetes','tem diabetes'], \n",
    "                            columns=['previsto sem diabetes', 'previsto com diabetes'])\n",
    "avaliacao"
   ]
  },
  {
   "cell_type": "code",
   "execution_count": 136,
   "id": "5e51e11f",
   "metadata": {},
   "outputs": [
    {
     "name": "stdout",
     "output_type": "stream",
     "text": [
      "[[113  10]\n",
      " [ 34  35]]\n",
      "[[113  34]\n",
      " [ 10  35]]\n"
     ]
    }
   ],
   "source": [
    "# Matriz de Confusao do SVM\n",
    "from sklearn.metrics import classification_report, confusion_matrix  \n",
    "print(confusion_matrix(yteste,yprevisao))\n",
    "print(confusion_matrix(yprevisao, yteste))"
   ]
  },
  {
   "cell_type": "code",
   "execution_count": 137,
   "id": "5d85e51d",
   "metadata": {},
   "outputs": [
    {
     "name": "stdout",
     "output_type": "stream",
     "text": [
      "[[  0   1]\n",
      " [147  45]]\n"
     ]
    }
   ],
   "source": [
    "# Conta os valores de cada classe\n",
    "yteste.value_counts()\n",
    "\n",
    "# Faz o value_counts para array\n",
    "yprevunico, yprevcount = np.unique(yprevisao, return_counts=True)\n",
    "print(np.asarray((yprevunico, yprevcount)))"
   ]
  },
  {
   "cell_type": "code",
   "execution_count": 138,
   "id": "b3438deb",
   "metadata": {},
   "outputs": [
    {
     "name": "stdout",
     "output_type": "stream",
     "text": [
      "              precision    recall  f1-score   support\n",
      "\n",
      "           0       0.77      0.92      0.84       123\n",
      "           1       0.78      0.51      0.61        69\n",
      "\n",
      "    accuracy                           0.77       192\n",
      "   macro avg       0.77      0.71      0.73       192\n",
      "weighted avg       0.77      0.77      0.76       192\n",
      "\n"
     ]
    }
   ],
   "source": [
    "# Resultado da Matriz de Confusão\n",
    "from sklearn.metrics import classification_report, confusion_matrix  \n",
    "print(classification_report(yteste,yprevisao)) "
   ]
  },
  {
   "cell_type": "code",
   "execution_count": 139,
   "id": "8369da75",
   "metadata": {},
   "outputs": [
    {
     "data": {
      "text/plain": [
       "0.7708333333333334"
      ]
     },
     "execution_count": 139,
     "metadata": {},
     "output_type": "execute_result"
    }
   ],
   "source": [
    "# Acurácia: TP+TN/TP+FN+TN+FP\n",
    "metrics.accuracy_score(yteste, yprevisao)"
   ]
  },
  {
   "cell_type": "code",
   "execution_count": 159,
   "id": "4cd00a51",
   "metadata": {},
   "outputs": [
    {
     "data": {
      "text/plain": [
       "0.3746907034287734"
      ]
     },
     "execution_count": 159,
     "metadata": {},
     "output_type": "execute_result"
    }
   ],
   "source": [
    "# Curva ROC\n",
    "from sklearn.metrics import roc_auc_score  \n",
    "from sklearn.tree import DecisionTreeClassifier\n",
    "\n",
    "modelodt = DecisionTreeClassifier()\n",
    "modelodt = modelodt.fit(xtreino,ytreino)\n",
    "\n",
    "# predic_proba() calcula a probabilidade de predição de cada classe\n",
    "probs = modelodt.predict_proba(xteste)\n",
    "probs = probs[:, 0]  \n",
    "roc_auc_score(yteste,probs)"
   ]
  },
  {
   "cell_type": "code",
   "execution_count": 154,
   "id": "62963f3c",
   "metadata": {},
   "outputs": [
    {
     "data": {
      "image/png": "[encoded data removed]",
      "text/plain": [
       "<Figure size 432x288 with 1 Axes>"
      ]
     },
     "metadata": {
      "needs_background": "light"
     },
     "output_type": "display_data"
    }
   ],
   "source": [
    "# Gráfico ROC\n",
    "import matplotlib.pyplot as plt \n",
    "from sklearn.metrics import roc_curve  \n",
    "\n",
    "y_pred_proba = modelodt.predict_proba(xteste)[::,1]\n",
    "fpr, tpr, _ = metrics.roc_curve(yteste,  y_pred_proba)\n",
    "auc = metrics.roc_auc_score(yteste, y_pred_proba)\n",
    "plt.plot(fpr,tpr,label=\"diabetes data, auc=\"+str(auc))\n",
    "plt.legend(loc=4)\n",
    "plt.ylabel('Verdadeiro Positivo')\n",
    "plt.xlabel('Falso Positivo')\n",
    "plt.show()"
   ]
  },
  {
   "cell_type": "code",
   "execution_count": 116,
   "id": "55f9f4b9",
   "metadata": {},
   "outputs": [
    {
     "name": "stdout",
     "output_type": "stream",
     "text": [
      "0.6799999999999999\n",
      "0.65\n"
     ]
    }
   ],
   "source": [
    "# Cross-validation na Árvore de Decisão c/ 10 folds\n",
    "from sklearn.model_selection import cross_val_score, cross_val_predict\n",
    "from sklearn import metrics\n",
    "from sklearn.tree import DecisionTreeClassifier\n",
    "\n",
    "modelodt = DecisionTreeClassifier()\n",
    "#modelodt = modelodt.fit(xtreino,ytreino)\n",
    "modelodt = modelodt.fit(X,y)\n",
    "#print(np.mean(cross_val_score(modelodt, xtreino, ytreino, cv=10)))\n",
    "print(np.mean(cross_val_score(modelodt, X, y, cv=10)))\n",
    "previsoes_cv = cross_val_predict(modelodt, X, y, cv=10)\n",
    "print(metrics.accuracy_score(y, previsoes_cv))"
   ]
  }
 ],
 "metadata": {
  "kernelspec": {
   "display_name": "Python 3",
   "language": "python",
   "name": "python3"
  },
  "language_info": {
   "codemirror_mode": {
    "name": "ipython",
    "version": 3
   },
   "file_extension": ".py",
   "mimetype": "text/x-python",
   "name": "python",
   "nbconvert_exporter": "python",
   "pygments_lexer": "ipython3",
   "version": "3.8.8"
  }
 },
 "nbformat": 4,
 "nbformat_minor": 5
}
